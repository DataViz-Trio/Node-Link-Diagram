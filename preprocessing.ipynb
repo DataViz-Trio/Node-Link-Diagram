{
 "cells": [
  {
   "cell_type": "code",
   "execution_count": 1,
   "metadata": {},
   "outputs": [],
   "source": [
    "import pandas as pd"
   ]
  },
  {
   "cell_type": "markdown",
   "metadata": {},
   "source": [
    "Converting to CSV file"
   ]
  },
  {
   "cell_type": "code",
   "execution_count": 2,
   "metadata": {},
   "outputs": [],
   "source": [
    "with open('data.convote', 'r') as file:\n",
    "    # Skip the first line as it is a header line\n",
    "    next(file)\n",
    "    lines = file.readlines()\n",
    "\n",
    "# Extract integers from each line and create a list of tuples\n",
    "data = [tuple(map(int, line.strip().split())) for line in lines]\n",
    "\n",
    "# Create a DataFrame from the list of tuples\n",
    "edges = pd.DataFrame(data, columns=['Source', 'Target', 'Weight'])"
   ]
  },
  {
   "cell_type": "code",
   "execution_count": 3,
   "metadata": {},
   "outputs": [],
   "source": [
    "# Separate edges with weight 1 and weight -1\n",
    "positive_edges = edges[edges['Weight'] == 1]\n",
    "negative_edges = edges[edges['Weight'] == -1]\n",
    "\n",
    "# Group positive edges by source and target nodes and add up the weights\n",
    "positive_edges_grouped = positive_edges.groupby(['Source', 'Target'])['Weight'].sum().reset_index()\n",
    "\n",
    "# Group negative edges by source and target nodes and add up the absolute values of weights\n",
    "negative_edges_grouped = negative_edges.groupby(['Source', 'Target'])['Weight'].apply(lambda x: abs(x).sum()).reset_index()"
   ]
  },
  {
   "cell_type": "code",
   "execution_count": 6,
   "metadata": {},
   "outputs": [],
   "source": [
    "import os\n",
    "# Create a folder named 'data' if it doesn't exist\n",
    "output_folder = 'Data'\n",
    "os.makedirs(output_folder, exist_ok=True)\n",
    "\n",
    "# Specify the file paths within the 'data' folder\n",
    "positive_edges_path = os.path.join(output_folder, 'positive_edges.csv')\n",
    "negative_edges_path = os.path.join(output_folder, 'negative_edges.csv')\n",
    "\n",
    "# Save DataFrames to CSV files in the 'data' folder\n",
    "positive_edges_grouped.to_csv(positive_edges_path, index=False)\n",
    "negative_edges_grouped.to_csv(negative_edges_path, index=False)"
   ]
  },
  {
   "cell_type": "code",
   "execution_count": 5,
   "metadata": {},
   "outputs": [
    {
     "name": "stdout",
     "output_type": "stream",
     "text": [
      "nodes.csv file created successfully.\n"
     ]
    }
   ],
   "source": [
    "# Extract unique nodes from 'Source' and 'Target' columns\n",
    "nodes = pd.DataFrame({'NodeID': pd.concat([edges['Source'], edges['Target']]).unique()})\n",
    "\n",
    "# Assign labels to nodes based on NodeID (change 'Label' to your desired label values)\n",
    "nodes['Label'] = nodes['NodeID'].apply(lambda x: f'Node {x}')\n",
    "\n",
    "# Save nodes DataFrame to nodes.csv\n",
    "nodes.to_csv('nodes.csv', index=False)"
   ]
  },
  {
   "cell_type": "code",
   "execution_count": null,
   "metadata": {},
   "outputs": [],
   "source": []
  }
 ],
 "metadata": {
  "kernelspec": {
   "display_name": "base",
   "language": "python",
   "name": "python3"
  },
  "language_info": {
   "codemirror_mode": {
    "name": "ipython",
    "version": 3
   },
   "file_extension": ".py",
   "mimetype": "text/x-python",
   "name": "python",
   "nbconvert_exporter": "python",
   "pygments_lexer": "ipython3",
   "version": "3.10.13"
  }
 },
 "nbformat": 4,
 "nbformat_minor": 2
}
