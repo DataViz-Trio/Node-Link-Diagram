{
 "cells": [
  {
   "cell_type": "code",
   "execution_count": 1,
   "metadata": {},
   "outputs": [],
   "source": [
    "import pandas as pd"
   ]
  },
  {
   "cell_type": "markdown",
   "metadata": {},
   "source": [
    "### Loading the Data"
   ]
  },
  {
   "cell_type": "code",
   "execution_count": 2,
   "metadata": {},
   "outputs": [],
   "source": [
    "with open('data.convote', 'r') as file:\n",
    "    # Skip the first line as it is a header line\n",
    "    next(file)\n",
    "    lines = file.readlines()\n",
    "\n",
    "# Extract integers from each line and create a list of tuples\n",
    "data = [tuple(map(int, line.strip().split())) for line in lines]\n",
    "\n",
    "# Create a DataFrame from the list of tuples\n",
    "edges = pd.DataFrame(data, columns=['Source', 'Target', 'Weight'])"
   ]
  },
  {
   "cell_type": "markdown",
   "metadata": {},
   "source": [
    "### Seperating negative and positive edges"
   ]
  },
  {
   "cell_type": "code",
   "execution_count": 7,
   "metadata": {},
   "outputs": [],
   "source": [
    "# Separate edges with weight 1 and weight -1\n",
    "positive_edges = edges[edges['Weight'] == 1]\n",
    "negative_edges = edges[edges['Weight'] == -1]\n",
    "\n",
    "# Group positive edges by source and target nodes and add up the weights\n",
    "positive_edges_grouped = positive_edges.groupby(['Source', 'Target'])['Weight'].sum().reset_index()\n",
    "\n",
    "# Group negative edges by source and target nodes and add up the weights\n",
    "negative_edges_grouped = negative_edges.groupby(['Source', 'Target'])['Weight'].sum().reset_index()\n",
    "\n",
    "negative_edges_grouped['Weight'] = -negative_edges_grouped['Weight']"
   ]
  },
  {
   "cell_type": "markdown",
   "metadata": {},
   "source": [
    "### Convert Dataframes to .csv files"
   ]
  },
  {
   "cell_type": "code",
   "execution_count": 8,
   "metadata": {},
   "outputs": [],
   "source": [
    "positive_edges_grouped.to_csv('positive_edges.csv',index =False)\n",
    "negative_edges_grouped.to_csv('negative_edges.csv',index=False)"
   ]
  },
  {
   "cell_type": "markdown",
   "metadata": {},
   "source": [
    "### Extracting the Node from edge list"
   ]
  },
  {
   "cell_type": "code",
   "execution_count": 9,
   "metadata": {},
   "outputs": [],
   "source": [
    "# Extract unique nodes from 'Source' and 'Target' columns\n",
    "nodes = pd.DataFrame({'id': pd.concat([edges['Source'], edges['Target']]).unique()})\n",
    "\n",
    "# Assign labels to nodes based on NodeID\n",
    "nodes['Label'] = nodes['id'].apply(lambda x: f'{x}')\n",
    "\n",
    "# Save nodes DataFrame to nodes.csv\n",
    "nodes.to_csv('nodes.csv', index=False)"
   ]
  }
 ],
 "metadata": {
  "kernelspec": {
   "display_name": "base",
   "language": "python",
   "name": "python3"
  },
  "language_info": {
   "codemirror_mode": {
    "name": "ipython",
    "version": 3
   },
   "file_extension": ".py",
   "mimetype": "text/x-python",
   "name": "python",
   "nbconvert_exporter": "python",
   "pygments_lexer": "ipython3",
   "version": "3.10.13"
  }
 },
 "nbformat": 4,
 "nbformat_minor": 2
}
